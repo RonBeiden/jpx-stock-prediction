# notebooks/01_exploratory_data_analysis.ipynb

{
 "cells": [
  {
   "cell_type": "markdown",
   "metadata": {},
   "source": [
    "# JPX Tokyo Stock Exchange Prediction - Exploratory Data Analysis\n",
    "\n",
    "This notebook contains the exploratory data analysis for the JPX Tokyo Stock Exchange Prediction challenge.\n",
    "\n",
    "## Table of Contents\n",
    "1. [Setup and Data Loading](#setup)\n",
    "2. [Basic Data Overview](#overview)\n",
    "3. [Target Analysis](#target)\n",
    "4. [Stock Price Analysis](#price)\n",
    "5. [Sector Analysis](#sector)\n",
    "6. [Financial Metrics Analysis](#financials)\n",
    "7. [Time Series Patterns](#time)\n",
    "8. [Missing Data Analysis](#missing)\n",
    "9. [Feature Correlations](#correlations)\n",
    "10. [Key Findings](#findings)"
   ]
  },
  {
   "cell_type": "code",
   "execution_count": null,
   "metadata": {},
   "source": [
    "# Import required libraries\n",
    "import pandas as pd\n",
    "import numpy as np\n",
    "import matplotlib.pyplot as plt\n",
    "import seaborn as sns\n",
    "from datetime import datetime\n",
    "import warnings\n",
    "\n",
    "# Display settings\n",
    "pd.set_option('display.max_columns', None)\n",
    "warnings.filterwarnings('ignore')\n",
    "plt.style.use('seaborn')\n",
    "%matplotlib inline"
   ]
  },
  {
   "cell_type": "markdown",
   "metadata": {},
   "source": [
    "## 1. Setup and Data Loading <a name=\"setup\"></a>"
   ]
  },
  {
   "cell_type": "code",
   "execution_count": null,
   "metadata": {},
   "source": [
    "# Load the data files\n",
    "def load_data():\n",
    "    stock_prices = pd.read_csv('../data/stock_prices.csv')\n",
    "    stock_list = pd.read_csv('../data/stock_list.csv')\n",
    "    financials = pd.read_csv('../data/financials.csv')\n",
    "    \n",
    "    # Convert date columns\n",
    "    stock_prices['Date'] = pd.to_datetime(stock_prices['Date'])\n",
    "    \n",
    "    return stock_prices, stock_list, financials\n",
    "\n",
    "# Load the data\n",
    "try:\n",
    "    stock_prices, stock_list, financials = load_data()\n",
    "    print(\"Data loaded successfully!\")\n",
    "except Exception as e:\n",
    "    print(f\"Error loading data: {e}\")"
   ]
  },
  {
   "cell_type": "markdown",
   "metadata": {},
   "source": [
    "## 2. Basic Data Overview <a name=\"overview\"></a>"
   ]
  },
  {
   "cell_type": "code",
   "execution_count": null,
   "metadata": {},
   "source": [
    "def display_basic_info(df, name):\n",
    "    print(f\"\\n=== {name} Dataset ===\")\n",
    "    print(f\"Shape: {df.shape}\")\n",
    "    print(\"\\nFirst few rows:\")\n",
    "    display(df.head())\n",
    "    print(\"\\nData Info:\")\n",
    "    display(df.info())\n",
    "    print(\"\\nMissing Values:\")\n",
    "    display(df.isnull().sum())\n",
    "\n",
    "# Display basic information for each dataset\n",
    "for df, name in zip([stock_prices, stock_list, financials], \n",
    "                   ['Stock Prices', 'Stock List', 'Financials']):\n",
    "    display_basic_info(df, name)"
   ]
  },
  {
   "cell_type": "markdown",
   "metadata": {},
   "source": [
    "## 3. Target Analysis <a name=\"target\"></a>"
   ]
  },
  {
   "cell_type": "code",
   "execution_count": null,
   "metadata": {},
   "source": [
    "def analyze_target(df):\n",
    "    plt.figure(figsize=(15, 5))\n",
    "    \n",
    "    # Distribution of target\n",
    "    plt.subplot(1, 3, 1)\n",
    "    sns.histplot(df['Target'].dropna(), bins=100)\n",
    "    plt.title('Distribution of Target Returns')\n",
    "    \n",
    "    # Target over time\n",
    "    plt.subplot(1, 3, 2)\n",
    "    df.groupby('Date')['Target'].mean().plot()\n",
    "    plt.title('Average Target Returns Over Time')\n",
    "    \n",
    "    # Target volatility\n",
    "    plt.subplot(1, 3, 3)\n",
    "    df.groupby('Date')['Target'].std().plot()\n",
    "    plt.title('Target Volatility Over Time')\n",
    "    \n",
    "    plt.tight_layout()\n",
    "    plt.show()\n",
    "\n",
    "analyze_target(stock_prices)"
   ]
  },
  {
   "cell_type": "markdown",
   "metadata": {},
   "source": [
    "## 4. Stock Price Analysis <a name=\"price\"></a>"
   ]
  },
  {
   "cell_type": "code",
   "execution_count": null,
   "metadata": {},
   "source": [
    "def analyze_prices(df):\n",
    "    # Sample some random stocks\n",
    "    sample_stocks = df['SecuritiesCode'].unique()[:5]\n",
    "    \n",
    "    plt.figure(figsize=(15, 10))\n",
    "    \n",
    "    # Price trends\n",
    "    plt.subplot(2, 1, 1)\n",
    "    for stock in sample_stocks:\n",
    "        stock_data = df[df['SecuritiesCode'] == stock]\n",
    "        plt.plot(stock_data['Date'], stock_data['Close'], label=f'Stock {stock}')\n",
    "    plt.title('Sample Stock Price Trends')\n",
    "    plt.legend()\n",
    "    \n",
    "    # Volume analysis\n",
    "    plt.subplot(2, 1, 2)\n",
    "    df.groupby('Date')['Volume'].mean().plot()\n",
    "    plt.title('Average Daily Trading Volume')\n",
    "    \n",
    "    plt.tight_layout()\n",
    "    plt.show()\n",
    "\n",
    "analyze_prices(stock_prices)"
   ]
  },
  {
   "cell_type": "markdown",
   "metadata": {},
   "source": [
    "## 5. Sector Analysis <a name=\"sector\"></a>"
   ]
  },
  {
   "cell_type": "code",
   "execution_count": null,
   "metadata": {},
   "source": [
    "def analyze_sectors(prices_df, list_df):\n",
    "    # Merge stock prices with sector information\n",
    "    df = prices_df.merge(list_df[['SecuritiesCode', 'Section/Products']], \n",
    "                        on='SecuritiesCode', how='left')\n",
    "    \n",
    "    plt.figure(figsize=(15, 10))\n",
    "    \n",
    "    # Returns by sector\n",
    "    plt.subplot(2, 1, 1)\n",
    "    sns.boxplot(data=df, x='Section/Products', y='Target')\n",
    "    plt.xticks(rotation=45)\n",
    "    plt.title('Returns Distribution by Sector')\n",
    "    \n",
    "    # Sector composition\n",
    "    plt.subplot(2, 1, 2)\n",
    "    df['Section/Products'].value_counts().plot(kind='bar')\n",
    "    plt.title('Number of Stocks per Sector')\n",
    "    plt.xticks(rotation=45)\n",
    "    \n",
    "    plt.tight_layout()\n",
    "    plt.show()\n",
    "\n",
    "analyze_sectors(stock_prices, stock_list)"
   ]
  },
  {
   "cell_type": "markdown",
   "metadata": {},
   "source": [
    "## 6. Financial Metrics Analysis <a name=\"financials\"></a>"
   ]
  },
  {
   "cell_type": "code",
   "execution_count": null,
   "metadata": {},
   "source": [
    "def analyze_financials(fin_df):\n",
    "    # Select numerical columns\n",
    "    num_cols = fin_df.select_dtypes(include=[np.number]).columns\n",
    "    \n",
    "    plt.figure(figsize=(15, 10))\n",
    "    \n",
    "    # Correlation heatmap\n",
    "    sns.heatmap(fin_df[num_cols].corr(), annot=True, cmap='coolwarm')\n",
    "    plt.title('Correlation of Financial Metrics')\n",
    "    plt.tight_layout()\n",
    "    plt.show()\n",
    "\n",
    "analyze_financials(financials)"
   ]
  },
  {
   "cell_type": "markdown",
   "metadata": {},
   "source": [
    "## 7. Time Series Patterns <a name=\"time\"></a>"
   ]
  },
  {
   "cell_type": "code",
   "execution_count": null,
   "metadata": {},
   "source": [
    "def analyze_time_patterns(df):\n",
    "    # Add time-based features\n",
    "    df['DayOfWeek'] = df['Date'].dt.dayofweek\n",
    "    df['Month'] = df['Date'].dt.month\n",
    "    \n",
    "    plt.figure(figsize=(15, 5))\n",
    "    \n",
    "    # Returns by day of week\n",
    "    plt.subplot(1, 2, 1)\n",
    "    sns.boxplot(data=df, x='DayOfWeek', y='Target')\n",
    "    plt.title('Returns by Day of Week')\n",
    "    \n",
    "    # Returns by month\n",
    "    plt.subplot(1, 2, 2)\n",
    "    sns.boxplot(data=df, x='Month', y='Target')\n",
    "    plt.title('Returns by Month')\n",
    "    \n",
    "    plt.tight_layout()\n",
    "    plt.show()\n",
    "\n",
    "analyze_time_patterns(stock_prices)"
   ]
  },
  {
   "cell_type": "markdown",
   "metadata": {},
   "source": [
    "## 8. Missing Data Analysis <a name=\"missing\"></a>"
   ]
  },
  {
   "cell_type": "code",
   "execution_count": null,
   "metadata": {},
   "source": [
    "def analyze_missing_data(df):\n",
    "    # Calculate missing percentages\n",
    "    missing_pct = (df.isnull().sum() / len(df)) * 100\n",
    "    \n",
    "    plt.figure(figsize=(12, 6))\n",
    "    missing_pct.plot(kind='bar')\n",
    "    plt.title('Percentage of Missing Values by Column')\n",
    "    plt.ylabel('Missing Percentage')\n",
    "    plt.xticks(rotation=45)\n",
    "    plt.tight_layout()\n",
    "    plt.show()\n",
    "\n",
    "for df, name in zip([stock_prices, financials], ['Stock Prices', 'Financials']):\n",
    "    print(f\"\\nMissing Data Analysis for {name}\")\n",
    "    analyze_missing_data(df)"
   ]
  },
  {
   "cell_type": "markdown",
   "metadata": {},
   "source": [
    "## 9. Feature Correlations <a name=\"correlations\"></a>"
   ]
  },
  {
   "cell_type": "code",
   "execution_count": null,
   "metadata": {},
   "source": [
    "def analyze_correlations(df):\n",
    "    # Select numerical columns\n",
    "    num_cols = df.select_dtypes(include=[np.number]).columns\n",
    "    \n",
    "    plt.figure(figsize=(12, 8))\n",
    "    sns.heatmap(df[num_cols].corr(), annot=True, cmap='coolwarm', center=0)\n",
    "    plt.title('Feature Correlation Matrix')\n",
    "    plt.tight_layout()\n",
    "    plt.show()\n",
    "\n",
    "analyze_correlations(stock_prices)"
   ]
  },
  {
   "cell_type": "markdown",
   "metadata": {},
   "source": [
    "## 10. Key Findings <a name=\"findings\"></a>\n",
    "\n",
    "Summary of key findings from the EDA:\n",
    "\n",
    "1. **Target Distribution**:\n",
    "   - [To be filled based on actual analysis]\n",
    "\n",
    "2. **Stock Price Patterns**:\n",
    "   - [To be filled based on actual analysis]\n",
    "\n",
    "3. **Sector Analysis**:\n",
    "   - [To be filled based on actual analysis]\n",
    "\n",
    "4. **Missing Data**:\n",
    "   - [To be filled based on actual analysis]\n",
    "\n",
    "5. **Time Series Patterns**:\n",
    "   - [To be filled based on actual analysis]\n",
    "\n",
    "6. **Feature Correlations**:\n",
    "   - [To be filled based on actual analysis]\n",
    "\n",
    "### Next Steps:\n",
    "1. Feature engineering based on identified patterns\n",
    "2. Missing data handling strategy\n",
    "3. Model selection considerations"
   ]
  }
 ],
 "metadata": {
  "kernelspec": {
   "display_name": "Python 3",
   "language": "python",
   "name": "python3"
  }
 },
 "nbformat": 4,
 "nbformat_minor": 4
} 